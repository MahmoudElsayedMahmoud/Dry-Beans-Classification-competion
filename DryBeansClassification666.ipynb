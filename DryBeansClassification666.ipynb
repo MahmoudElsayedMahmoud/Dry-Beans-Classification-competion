{
 "cells": [
  {
   "cell_type": "code",
   "execution_count": 1,
   "id": "bce397b3",
   "metadata": {
    "execution": {
     "iopub.execute_input": "2021-10-08T01:29:20.296850Z",
     "iopub.status.busy": "2021-10-08T01:29:20.295878Z",
     "iopub.status.idle": "2021-10-08T01:29:31.890315Z",
     "shell.execute_reply": "2021-10-08T01:29:31.889638Z",
     "shell.execute_reply.started": "2021-10-08T01:24:45.725530Z"
    },
    "papermill": {
     "duration": 11.632155,
     "end_time": "2021-10-08T01:29:31.890492",
     "exception": false,
     "start_time": "2021-10-08T01:29:20.258337",
     "status": "completed"
    },
    "tags": []
   },
   "outputs": [
    {
     "name": "stdout",
     "output_type": "stream",
     "text": [
      "Collecting bioinfokit\r\n",
      "  Downloading bioinfokit-2.0.6.tar.gz (84 kB)\r\n",
      "\u001b[K     |████████████████████████████████| 84 kB 1.1 MB/s \r\n",
      "\u001b[?25hRequirement already satisfied: pandas in /opt/conda/lib/python3.7/site-packages (from bioinfokit) (1.3.2)\r\n",
      "Requirement already satisfied: numpy in /opt/conda/lib/python3.7/site-packages (from bioinfokit) (1.19.5)\r\n",
      "Requirement already satisfied: matplotlib in /opt/conda/lib/python3.7/site-packages (from bioinfokit) (3.4.3)\r\n",
      "Requirement already satisfied: scipy in /opt/conda/lib/python3.7/site-packages (from bioinfokit) (1.7.1)\r\n",
      "Requirement already satisfied: scikit-learn in /opt/conda/lib/python3.7/site-packages (from bioinfokit) (0.23.2)\r\n",
      "Requirement already satisfied: seaborn in /opt/conda/lib/python3.7/site-packages (from bioinfokit) (0.11.2)\r\n",
      "Requirement already satisfied: matplotlib-venn in /opt/conda/lib/python3.7/site-packages (from bioinfokit) (0.11.6)\r\n",
      "Requirement already satisfied: tabulate in /opt/conda/lib/python3.7/site-packages (from bioinfokit) (0.8.9)\r\n",
      "Requirement already satisfied: statsmodels in /opt/conda/lib/python3.7/site-packages (from bioinfokit) (0.12.2)\r\n",
      "Requirement already satisfied: textwrap3 in /opt/conda/lib/python3.7/site-packages (from bioinfokit) (0.9.2)\r\n",
      "Collecting adjustText\r\n",
      "  Downloading adjustText-0.7.3.tar.gz (7.5 kB)\r\n",
      "Requirement already satisfied: cycler>=0.10 in /opt/conda/lib/python3.7/site-packages (from matplotlib->bioinfokit) (0.10.0)\r\n",
      "Requirement already satisfied: pillow>=6.2.0 in /opt/conda/lib/python3.7/site-packages (from matplotlib->bioinfokit) (8.2.0)\r\n",
      "Requirement already satisfied: python-dateutil>=2.7 in /opt/conda/lib/python3.7/site-packages (from matplotlib->bioinfokit) (2.8.0)\r\n",
      "Requirement already satisfied: pyparsing>=2.2.1 in /opt/conda/lib/python3.7/site-packages (from matplotlib->bioinfokit) (2.4.7)\r\n",
      "Requirement already satisfied: kiwisolver>=1.0.1 in /opt/conda/lib/python3.7/site-packages (from matplotlib->bioinfokit) (1.3.1)\r\n",
      "Requirement already satisfied: six in /opt/conda/lib/python3.7/site-packages (from cycler>=0.10->matplotlib->bioinfokit) (1.15.0)\r\n",
      "Requirement already satisfied: pytz>=2017.3 in /opt/conda/lib/python3.7/site-packages (from pandas->bioinfokit) (2021.1)\r\n",
      "Requirement already satisfied: joblib>=0.11 in /opt/conda/lib/python3.7/site-packages (from scikit-learn->bioinfokit) (1.0.1)\r\n",
      "Requirement already satisfied: threadpoolctl>=2.0.0 in /opt/conda/lib/python3.7/site-packages (from scikit-learn->bioinfokit) (2.2.0)\r\n",
      "Requirement already satisfied: patsy>=0.5 in /opt/conda/lib/python3.7/site-packages (from statsmodels->bioinfokit) (0.5.1)\r\n",
      "Building wheels for collected packages: bioinfokit, adjustText\r\n",
      "  Building wheel for bioinfokit (setup.py) ... \u001b[?25l-\b \b\\\b \bdone\r\n",
      "\u001b[?25h  Created wheel for bioinfokit: filename=bioinfokit-2.0.6-py3-none-any.whl size=57066 sha256=6140cfbba23a6d7a546a47a9f4ca0b337fa68ec12582dcc8c0ac29249ebe51d4\r\n",
      "  Stored in directory: /root/.cache/pip/wheels/38/b2/a0/3f65c463d3faababa8cb5f3076e3bfc1c49fea2a736a49038a\r\n",
      "  Building wheel for adjustText (setup.py) ... \u001b[?25l-\b \b\\\b \bdone\r\n",
      "\u001b[?25h  Created wheel for adjustText: filename=adjustText-0.7.3-py3-none-any.whl size=7094 sha256=702325d752289b4708b444089eb48b431bfd873409e38cad4c82a0dd02519350\r\n",
      "  Stored in directory: /root/.cache/pip/wheels/2f/98/32/afbf902d8f040fadfdf0a44357e4ab750afe165d873bf5893d\r\n",
      "Successfully built bioinfokit adjustText\r\n",
      "Installing collected packages: adjustText, bioinfokit\r\n",
      "Successfully installed adjustText-0.7.3 bioinfokit-2.0.6\r\n",
      "\u001b[33mWARNING: Running pip as the 'root' user can result in broken permissions and conflicting behaviour with the system package manager. It is recommended to use a virtual environment instead: https://pip.pypa.io/warnings/venv\u001b[0m\r\n"
     ]
    }
   ],
   "source": [
    "!pip install bioinfokit"
   ]
  },
  {
   "cell_type": "code",
   "execution_count": 1,
   "id": "b9010b77",
   "metadata": {
    "execution": {
     "iopub.execute_input": "2021-10-08T01:29:31.952521Z",
     "iopub.status.busy": "2021-10-08T01:29:31.951815Z",
     "iopub.status.idle": "2021-10-08T01:29:33.307692Z",
     "shell.execute_reply": "2021-10-08T01:29:33.306598Z",
     "shell.execute_reply.started": "2021-10-08T01:24:59.175997Z"
    },
    "papermill": {
     "duration": 1.390201,
     "end_time": "2021-10-08T01:29:33.307854",
     "exception": false,
     "start_time": "2021-10-08T01:29:31.917653",
     "status": "completed"
    },
    "tags": []
   },
   "outputs": [],
   "source": [
    "from sklearn import preprocessing, svm\n",
    "from sklearn.linear_model import LogisticRegression\n",
    "from sklearn.model_selection import RandomizedSearchCV\n",
    "from sklearn.model_selection import train_test_split\n",
    "from sklearn.model_selection import cross_val_score\n",
    "from sklearn.model_selection import KFold\n",
    "from sklearn.decomposition import PCA\n",
    "from sklearn.ensemble import RandomForestClassifier\n",
    "from sklearn.neighbors import KNeighborsClassifier\n",
    "from xgboost import XGBClassifier\n",
    "import sklearn.metrics as metrics\n",
    "import pandas as pd\n",
    "import matplotlib.pyplot as plt\n",
    "import numpy as np\n",
    "import seaborn as sns\n",
    "from bioinfokit.visuz import cluster\n",
    "from imblearn.over_sampling import SMOTE\n",
    "from collections import Counter\n",
    "from scipy.stats import randint, loguniform"
   ]
  },
  {
   "cell_type": "code",
   "execution_count": 2,
   "id": "cdb12347",
   "metadata": {
    "execution": {
     "iopub.execute_input": "2021-10-08T01:29:33.365920Z",
     "iopub.status.busy": "2021-10-08T01:29:33.365284Z",
     "iopub.status.idle": "2021-10-08T01:29:33.369666Z",
     "shell.execute_reply": "2021-10-08T01:29:33.370125Z",
     "shell.execute_reply.started": "2021-10-08T01:25:00.654511Z"
    },
    "papermill": {
     "duration": 0.035421,
     "end_time": "2021-10-08T01:29:33.370339",
     "exception": false,
     "start_time": "2021-10-08T01:29:33.334918",
     "status": "completed"
    },
    "tags": []
   },
   "outputs": [],
   "source": [
    "import warnings\n",
    "warnings.filterwarnings('ignore')"
   ]
  },
  {
   "cell_type": "code",
   "execution_count": 3,
   "id": "c8e6b1d1",
   "metadata": {
    "execution": {
     "iopub.execute_input": "2021-10-08T01:29:33.429523Z",
     "iopub.status.busy": "2021-10-08T01:29:33.428870Z",
     "iopub.status.idle": "2021-10-08T01:29:33.572323Z",
     "shell.execute_reply": "2021-10-08T01:29:33.571714Z",
     "shell.execute_reply.started": "2021-10-08T01:25:00.661017Z"
    },
    "papermill": {
     "duration": 0.174379,
     "end_time": "2021-10-08T01:29:33.572483",
     "exception": false,
     "start_time": "2021-10-08T01:29:33.398104",
     "status": "completed"
    },
    "tags": []
   },
   "outputs": [
    {
     "data": {
      "text/html": [
       "<div>\n",
       "<style scoped>\n",
       "    .dataframe tbody tr th:only-of-type {\n",
       "        vertical-align: middle;\n",
       "    }\n",
       "\n",
       "    .dataframe tbody tr th {\n",
       "        vertical-align: top;\n",
       "    }\n",
       "\n",
       "    .dataframe thead th {\n",
       "        text-align: right;\n",
       "    }\n",
       "</style>\n",
       "<table border=\"1\" class=\"dataframe\">\n",
       "  <thead>\n",
       "    <tr style=\"text-align: right;\">\n",
       "      <th></th>\n",
       "      <th>Area</th>\n",
       "      <th>Perimeter</th>\n",
       "      <th>MajorAxisLength</th>\n",
       "      <th>MinorAxisLength</th>\n",
       "      <th>AspectRation</th>\n",
       "      <th>Eccentricity</th>\n",
       "      <th>ConvexArea</th>\n",
       "      <th>EquivDiameter</th>\n",
       "      <th>Extent</th>\n",
       "      <th>Solidity</th>\n",
       "      <th>roundness</th>\n",
       "      <th>Compactness</th>\n",
       "      <th>ShapeFactor1</th>\n",
       "      <th>ShapeFactor2</th>\n",
       "      <th>ShapeFactor3</th>\n",
       "      <th>ShapeFactor4</th>\n",
       "      <th>y</th>\n",
       "    </tr>\n",
       "    <tr>\n",
       "      <th>ID</th>\n",
       "      <th></th>\n",
       "      <th></th>\n",
       "      <th></th>\n",
       "      <th></th>\n",
       "      <th></th>\n",
       "      <th></th>\n",
       "      <th></th>\n",
       "      <th></th>\n",
       "      <th></th>\n",
       "      <th></th>\n",
       "      <th></th>\n",
       "      <th></th>\n",
       "      <th></th>\n",
       "      <th></th>\n",
       "      <th></th>\n",
       "      <th></th>\n",
       "      <th></th>\n",
       "    </tr>\n",
       "  </thead>\n",
       "  <tbody>\n",
       "    <tr>\n",
       "      <th>0</th>\n",
       "      <td>58238</td>\n",
       "      <td>971.303</td>\n",
       "      <td>397.202654</td>\n",
       "      <td>186.945510</td>\n",
       "      <td>2.124697</td>\n",
       "      <td>0.882317</td>\n",
       "      <td>58977</td>\n",
       "      <td>272.306674</td>\n",
       "      <td>0.604756</td>\n",
       "      <td>0.987470</td>\n",
       "      <td>0.775723</td>\n",
       "      <td>0.685561</td>\n",
       "      <td>0.006820</td>\n",
       "      <td>0.000929</td>\n",
       "      <td>0.469994</td>\n",
       "      <td>0.998595</td>\n",
       "      <td>HOROZ</td>\n",
       "    </tr>\n",
       "    <tr>\n",
       "      <th>1</th>\n",
       "      <td>44515</td>\n",
       "      <td>757.601</td>\n",
       "      <td>265.590470</td>\n",
       "      <td>213.967453</td>\n",
       "      <td>1.241266</td>\n",
       "      <td>0.592420</td>\n",
       "      <td>44780</td>\n",
       "      <td>238.071960</td>\n",
       "      <td>0.771745</td>\n",
       "      <td>0.994082</td>\n",
       "      <td>0.974620</td>\n",
       "      <td>0.896387</td>\n",
       "      <td>0.005966</td>\n",
       "      <td>0.002376</td>\n",
       "      <td>0.803510</td>\n",
       "      <td>0.997370</td>\n",
       "      <td>SEKER</td>\n",
       "    </tr>\n",
       "    <tr>\n",
       "      <th>2</th>\n",
       "      <td>31662</td>\n",
       "      <td>653.783</td>\n",
       "      <td>239.902428</td>\n",
       "      <td>168.421505</td>\n",
       "      <td>1.424417</td>\n",
       "      <td>0.712136</td>\n",
       "      <td>32034</td>\n",
       "      <td>200.781748</td>\n",
       "      <td>0.801407</td>\n",
       "      <td>0.988387</td>\n",
       "      <td>0.930853</td>\n",
       "      <td>0.836931</td>\n",
       "      <td>0.007577</td>\n",
       "      <td>0.002293</td>\n",
       "      <td>0.700453</td>\n",
       "      <td>0.997737</td>\n",
       "      <td>DERMASON</td>\n",
       "    </tr>\n",
       "    <tr>\n",
       "      <th>3</th>\n",
       "      <td>38778</td>\n",
       "      <td>734.020</td>\n",
       "      <td>268.446281</td>\n",
       "      <td>184.061923</td>\n",
       "      <td>1.458456</td>\n",
       "      <td>0.727925</td>\n",
       "      <td>39208</td>\n",
       "      <td>222.201897</td>\n",
       "      <td>0.766137</td>\n",
       "      <td>0.989033</td>\n",
       "      <td>0.904439</td>\n",
       "      <td>0.827733</td>\n",
       "      <td>0.006923</td>\n",
       "      <td>0.002005</td>\n",
       "      <td>0.685142</td>\n",
       "      <td>0.999250</td>\n",
       "      <td>DERMASON</td>\n",
       "    </tr>\n",
       "    <tr>\n",
       "      <th>4</th>\n",
       "      <td>42530</td>\n",
       "      <td>775.403</td>\n",
       "      <td>281.212824</td>\n",
       "      <td>193.236878</td>\n",
       "      <td>1.455275</td>\n",
       "      <td>0.726511</td>\n",
       "      <td>43028</td>\n",
       "      <td>232.703412</td>\n",
       "      <td>0.729816</td>\n",
       "      <td>0.988426</td>\n",
       "      <td>0.888895</td>\n",
       "      <td>0.827499</td>\n",
       "      <td>0.006612</td>\n",
       "      <td>0.001912</td>\n",
       "      <td>0.684755</td>\n",
       "      <td>0.996507</td>\n",
       "      <td>SIRA</td>\n",
       "    </tr>\n",
       "  </tbody>\n",
       "</table>\n",
       "</div>"
      ],
      "text/plain": [
       "     Area  Perimeter  MajorAxisLength  MinorAxisLength  AspectRation  \\\n",
       "ID                                                                     \n",
       "0   58238    971.303       397.202654       186.945510      2.124697   \n",
       "1   44515    757.601       265.590470       213.967453      1.241266   \n",
       "2   31662    653.783       239.902428       168.421505      1.424417   \n",
       "3   38778    734.020       268.446281       184.061923      1.458456   \n",
       "4   42530    775.403       281.212824       193.236878      1.455275   \n",
       "\n",
       "    Eccentricity  ConvexArea  EquivDiameter    Extent  Solidity  roundness  \\\n",
       "ID                                                                           \n",
       "0       0.882317       58977     272.306674  0.604756  0.987470   0.775723   \n",
       "1       0.592420       44780     238.071960  0.771745  0.994082   0.974620   \n",
       "2       0.712136       32034     200.781748  0.801407  0.988387   0.930853   \n",
       "3       0.727925       39208     222.201897  0.766137  0.989033   0.904439   \n",
       "4       0.726511       43028     232.703412  0.729816  0.988426   0.888895   \n",
       "\n",
       "    Compactness  ShapeFactor1  ShapeFactor2  ShapeFactor3  ShapeFactor4  \\\n",
       "ID                                                                        \n",
       "0      0.685561      0.006820      0.000929      0.469994      0.998595   \n",
       "1      0.896387      0.005966      0.002376      0.803510      0.997370   \n",
       "2      0.836931      0.007577      0.002293      0.700453      0.997737   \n",
       "3      0.827733      0.006923      0.002005      0.685142      0.999250   \n",
       "4      0.827499      0.006612      0.001912      0.684755      0.996507   \n",
       "\n",
       "           y  \n",
       "ID            \n",
       "0      HOROZ  \n",
       "1      SEKER  \n",
       "2   DERMASON  \n",
       "3   DERMASON  \n",
       "4       SIRA  "
      ]
     },
     "execution_count": 3,
     "metadata": {},
     "output_type": "execute_result"
    }
   ],
   "source": [
    "df_train = pd.read_csv('train.csv', index_col='ID')\n",
    "df_train.head()"
   ]
  },
  {
   "cell_type": "code",
   "execution_count": 4,
   "id": "c6b34145",
   "metadata": {
    "execution": {
     "iopub.execute_input": "2021-10-08T01:29:33.634876Z",
     "iopub.status.busy": "2021-10-08T01:29:33.634106Z",
     "iopub.status.idle": "2021-10-08T01:29:33.637902Z",
     "shell.execute_reply": "2021-10-08T01:29:33.637390Z",
     "shell.execute_reply.started": "2021-10-08T01:25:00.818295Z"
    },
    "papermill": {
     "duration": 0.038323,
     "end_time": "2021-10-08T01:29:33.638038",
     "exception": false,
     "start_time": "2021-10-08T01:29:33.599715",
     "status": "completed"
    },
    "tags": []
   },
   "outputs": [
    {
     "data": {
      "text/plain": [
       "array(['HOROZ', 'SEKER', 'DERMASON', 'SIRA', 'BARBUNYA', 'CALI', 'BOMBAY'],\n",
       "      dtype=object)"
      ]
     },
     "execution_count": 4,
     "metadata": {},
     "output_type": "execute_result"
    }
   ],
   "source": [
    "labels = df_train.y.unique()\n",
    "labels"
   ]
  },
  {
   "cell_type": "code",
   "execution_count": 5,
   "id": "89807f23",
   "metadata": {
    "execution": {
     "iopub.execute_input": "2021-10-08T01:29:33.696594Z",
     "iopub.status.busy": "2021-10-08T01:29:33.695649Z",
     "iopub.status.idle": "2021-10-08T01:29:33.749915Z",
     "shell.execute_reply": "2021-10-08T01:29:33.750375Z",
     "shell.execute_reply.started": "2021-10-08T01:25:00.831902Z"
    },
    "papermill": {
     "duration": 0.084981,
     "end_time": "2021-10-08T01:29:33.750539",
     "exception": false,
     "start_time": "2021-10-08T01:29:33.665558",
     "status": "completed"
    },
    "tags": []
   },
   "outputs": [
    {
     "data": {
      "text/html": [
       "<div>\n",
       "<style scoped>\n",
       "    .dataframe tbody tr th:only-of-type {\n",
       "        vertical-align: middle;\n",
       "    }\n",
       "\n",
       "    .dataframe tbody tr th {\n",
       "        vertical-align: top;\n",
       "    }\n",
       "\n",
       "    .dataframe thead th {\n",
       "        text-align: right;\n",
       "    }\n",
       "</style>\n",
       "<table border=\"1\" class=\"dataframe\">\n",
       "  <thead>\n",
       "    <tr style=\"text-align: right;\">\n",
       "      <th></th>\n",
       "      <th>Area</th>\n",
       "      <th>Perimeter</th>\n",
       "      <th>MajorAxisLength</th>\n",
       "      <th>MinorAxisLength</th>\n",
       "      <th>AspectRation</th>\n",
       "      <th>Eccentricity</th>\n",
       "      <th>ConvexArea</th>\n",
       "      <th>EquivDiameter</th>\n",
       "      <th>Extent</th>\n",
       "      <th>Solidity</th>\n",
       "      <th>roundness</th>\n",
       "      <th>Compactness</th>\n",
       "      <th>ShapeFactor1</th>\n",
       "      <th>ShapeFactor2</th>\n",
       "      <th>ShapeFactor3</th>\n",
       "      <th>ShapeFactor4</th>\n",
       "    </tr>\n",
       "    <tr>\n",
       "      <th>ID</th>\n",
       "      <th></th>\n",
       "      <th></th>\n",
       "      <th></th>\n",
       "      <th></th>\n",
       "      <th></th>\n",
       "      <th></th>\n",
       "      <th></th>\n",
       "      <th></th>\n",
       "      <th></th>\n",
       "      <th></th>\n",
       "      <th></th>\n",
       "      <th></th>\n",
       "      <th></th>\n",
       "      <th></th>\n",
       "      <th></th>\n",
       "      <th></th>\n",
       "    </tr>\n",
       "  </thead>\n",
       "  <tbody>\n",
       "    <tr>\n",
       "      <th>10834</th>\n",
       "      <td>57659</td>\n",
       "      <td>955.434</td>\n",
       "      <td>387.757607</td>\n",
       "      <td>196.625782</td>\n",
       "      <td>1.972059</td>\n",
       "      <td>0.861896</td>\n",
       "      <td>60188</td>\n",
       "      <td>270.949661</td>\n",
       "      <td>0.620790</td>\n",
       "      <td>0.957982</td>\n",
       "      <td>0.793735</td>\n",
       "      <td>0.698760</td>\n",
       "      <td>0.006725</td>\n",
       "      <td>0.000989</td>\n",
       "      <td>0.488266</td>\n",
       "      <td>0.962889</td>\n",
       "    </tr>\n",
       "    <tr>\n",
       "      <th>10835</th>\n",
       "      <td>28772</td>\n",
       "      <td>630.362</td>\n",
       "      <td>229.990785</td>\n",
       "      <td>159.609367</td>\n",
       "      <td>1.440960</td>\n",
       "      <td>0.719993</td>\n",
       "      <td>29127</td>\n",
       "      <td>191.399185</td>\n",
       "      <td>0.767458</td>\n",
       "      <td>0.987812</td>\n",
       "      <td>0.909913</td>\n",
       "      <td>0.832204</td>\n",
       "      <td>0.007994</td>\n",
       "      <td>0.002365</td>\n",
       "      <td>0.692563</td>\n",
       "      <td>0.997956</td>\n",
       "    </tr>\n",
       "    <tr>\n",
       "      <th>10836</th>\n",
       "      <td>54677</td>\n",
       "      <td>911.022</td>\n",
       "      <td>308.853903</td>\n",
       "      <td>226.398571</td>\n",
       "      <td>1.364204</td>\n",
       "      <td>0.680198</td>\n",
       "      <td>55858</td>\n",
       "      <td>263.850182</td>\n",
       "      <td>0.753013</td>\n",
       "      <td>0.978857</td>\n",
       "      <td>0.827860</td>\n",
       "      <td>0.854288</td>\n",
       "      <td>0.005649</td>\n",
       "      <td>0.001856</td>\n",
       "      <td>0.729808</td>\n",
       "      <td>0.995607</td>\n",
       "    </tr>\n",
       "    <tr>\n",
       "      <th>10837</th>\n",
       "      <td>24827</td>\n",
       "      <td>578.304</td>\n",
       "      <td>214.192699</td>\n",
       "      <td>147.788172</td>\n",
       "      <td>1.449322</td>\n",
       "      <td>0.723831</td>\n",
       "      <td>25121</td>\n",
       "      <td>177.794033</td>\n",
       "      <td>0.716508</td>\n",
       "      <td>0.988297</td>\n",
       "      <td>0.932871</td>\n",
       "      <td>0.830066</td>\n",
       "      <td>0.008627</td>\n",
       "      <td>0.002526</td>\n",
       "      <td>0.689009</td>\n",
       "      <td>0.998596</td>\n",
       "    </tr>\n",
       "    <tr>\n",
       "      <th>10838</th>\n",
       "      <td>141850</td>\n",
       "      <td>1432.847</td>\n",
       "      <td>524.923471</td>\n",
       "      <td>346.910920</td>\n",
       "      <td>1.513136</td>\n",
       "      <td>0.750492</td>\n",
       "      <td>143680</td>\n",
       "      <td>424.981211</td>\n",
       "      <td>0.804617</td>\n",
       "      <td>0.987263</td>\n",
       "      <td>0.868240</td>\n",
       "      <td>0.809606</td>\n",
       "      <td>0.003701</td>\n",
       "      <td>0.000981</td>\n",
       "      <td>0.655462</td>\n",
       "      <td>0.991803</td>\n",
       "    </tr>\n",
       "  </tbody>\n",
       "</table>\n",
       "</div>"
      ],
      "text/plain": [
       "         Area  Perimeter  MajorAxisLength  MinorAxisLength  AspectRation  \\\n",
       "ID                                                                         \n",
       "10834   57659    955.434       387.757607       196.625782      1.972059   \n",
       "10835   28772    630.362       229.990785       159.609367      1.440960   \n",
       "10836   54677    911.022       308.853903       226.398571      1.364204   \n",
       "10837   24827    578.304       214.192699       147.788172      1.449322   \n",
       "10838  141850   1432.847       524.923471       346.910920      1.513136   \n",
       "\n",
       "       Eccentricity  ConvexArea  EquivDiameter    Extent  Solidity  roundness  \\\n",
       "ID                                                                              \n",
       "10834      0.861896       60188     270.949661  0.620790  0.957982   0.793735   \n",
       "10835      0.719993       29127     191.399185  0.767458  0.987812   0.909913   \n",
       "10836      0.680198       55858     263.850182  0.753013  0.978857   0.827860   \n",
       "10837      0.723831       25121     177.794033  0.716508  0.988297   0.932871   \n",
       "10838      0.750492      143680     424.981211  0.804617  0.987263   0.868240   \n",
       "\n",
       "       Compactness  ShapeFactor1  ShapeFactor2  ShapeFactor3  ShapeFactor4  \n",
       "ID                                                                          \n",
       "10834     0.698760      0.006725      0.000989      0.488266      0.962889  \n",
       "10835     0.832204      0.007994      0.002365      0.692563      0.997956  \n",
       "10836     0.854288      0.005649      0.001856      0.729808      0.995607  \n",
       "10837     0.830066      0.008627      0.002526      0.689009      0.998596  \n",
       "10838     0.809606      0.003701      0.000981      0.655462      0.991803  "
      ]
     },
     "execution_count": 5,
     "metadata": {},
     "output_type": "execute_result"
    }
   ],
   "source": [
    "df_test = pd.read_csv('test.csv', index_col='ID')\n",
    "df_test.head()"
   ]
  },
  {
   "cell_type": "code",
   "execution_count": 14,
   "id": "66165dae",
   "metadata": {
    "execution": {
     "iopub.execute_input": "2021-10-08T01:29:33.809128Z",
     "iopub.status.busy": "2021-10-08T01:29:33.808230Z",
     "iopub.status.idle": "2021-10-08T01:29:35.676275Z",
     "shell.execute_reply": "2021-10-08T01:29:35.676726Z",
     "shell.execute_reply.started": "2021-10-08T01:25:00.895914Z"
    },
    "papermill": {
     "duration": 1.8989,
     "end_time": "2021-10-08T01:29:35.676896",
     "exception": false,
     "start_time": "2021-10-08T01:29:33.777996",
     "status": "completed"
    },
    "tags": []
   },
   "outputs": [],
   "source": [
    "X = df_train.drop(\"y\", axis=1)\n",
    "Y = df_train['y']\n",
    "\n"
   ]
  },
  {
   "cell_type": "code",
   "execution_count": 15,
   "id": "b2f77580",
   "metadata": {
    "execution": {
     "iopub.execute_input": "2021-10-08T01:29:35.745170Z",
     "iopub.status.busy": "2021-10-08T01:29:35.744565Z",
     "iopub.status.idle": "2021-10-08T01:29:35.750524Z",
     "shell.execute_reply": "2021-10-08T01:29:35.751004Z",
     "shell.execute_reply.started": "2021-10-08T01:25:02.885861Z"
    },
    "papermill": {
     "duration": 0.041416,
     "end_time": "2021-10-08T01:29:35.751181",
     "exception": false,
     "start_time": "2021-10-08T01:29:35.709765",
     "status": "completed"
    },
    "tags": []
   },
   "outputs": [],
   "source": [
    "# Detect  outliers in the dataset\n",
    "\n",
    "def outliers(df, features):\n",
    "    outlier_indices = []\n",
    "\n",
    "    for c in features:\n",
    "        Q1 = np.percentile(df[c], 25)\n",
    "        Q3 = np.percentile(df[c], 75)\n",
    "        IQR = Q3 - Q1\n",
    "        outlier_step = IQR * 1.5\n",
    "        outlier_list_col = df[(df[c] < Q1 - outlier_step) | (df[c] > Q3 + outlier_step)].index\n",
    "        outlier_indices.extend(outlier_list_col)\n",
    "\n",
    "    outlier_indices = Counter(outlier_indices)\n",
    "    multiple_outliers = list(i for i, v in outlier_indices.items() if v > 1)\n",
    "\n",
    "    return multiple_outliers"
   ]
  },
  {
   "cell_type": "code",
   "execution_count": 16,
   "id": "2a911c5d",
   "metadata": {
    "execution": {
     "iopub.execute_input": "2021-10-08T01:29:35.819946Z",
     "iopub.status.busy": "2021-10-08T01:29:35.819369Z",
     "iopub.status.idle": "2021-10-08T01:29:35.855941Z",
     "shell.execute_reply": "2021-10-08T01:29:35.856914Z",
     "shell.execute_reply.started": "2021-10-08T01:25:02.894908Z"
    },
    "papermill": {
     "duration": 0.07288,
     "end_time": "2021-10-08T01:29:35.857252",
     "exception": false,
     "start_time": "2021-10-08T01:29:35.784372",
     "status": "completed"
    },
    "tags": []
   },
   "outputs": [
    {
     "name": "stdout",
     "output_type": "stream",
     "text": [
      "Number of of samples in the dataset after removing outliers: 9333\n"
     ]
    }
   ],
   "source": [
    "df_train = df_train.drop(outliers(df_train,['Area', 'Perimeter', 'MajorAxisLength',\n",
    "                                                   'MinorAxisLength', 'AspectRation', 'Eccentricity',\n",
    "                                                   'ConvexArea', 'EquivDiameter', 'Extent', 'Solidity',\n",
    "                                                   'roundness', 'Compactness', 'ShapeFactor1',\n",
    "                                                   'ShapeFactor2', 'ShapeFactor3', 'ShapeFactor4']), \n",
    "                         axis=0).reset_index(drop=True)\n",
    "\n",
    "print('Number of of samples in the dataset after removing outliers: %d' % len(df_train))"
   ]
  },
  {
   "cell_type": "code",
   "execution_count": null,
   "id": "7224ba60",
   "metadata": {
    "execution": {
     "iopub.execute_input": "2021-10-08T01:29:35.968846Z",
     "iopub.status.busy": "2021-10-08T01:29:35.958134Z",
     "iopub.status.idle": "2021-10-08T01:29:36.140652Z",
     "shell.execute_reply": "2021-10-08T01:29:36.139714Z",
     "shell.execute_reply.started": "2021-10-08T01:25:02.943442Z"
    },
    "papermill": {
     "duration": 0.251358,
     "end_time": "2021-10-08T01:29:36.140798",
     "exception": false,
     "start_time": "2021-10-08T01:29:35.889440",
     "status": "completed"
    },
    "tags": []
   },
   "outputs": [],
   "source": []
  },
  {
   "cell_type": "code",
   "execution_count": 17,
   "id": "ee1de55a",
   "metadata": {
    "execution": {
     "iopub.execute_input": "2021-10-08T01:29:36.216569Z",
     "iopub.status.busy": "2021-10-08T01:29:36.215828Z",
     "iopub.status.idle": "2021-10-08T01:29:36.225475Z",
     "shell.execute_reply": "2021-10-08T01:29:36.224854Z",
     "shell.execute_reply.started": "2021-10-08T01:25:03.171579Z"
    },
    "papermill": {
     "duration": 0.051609,
     "end_time": "2021-10-08T01:29:36.225622",
     "exception": false,
     "start_time": "2021-10-08T01:29:36.174013",
     "status": "completed"
    },
    "tags": []
   },
   "outputs": [],
   "source": [
    "# Convert Class String labels into Integers\n",
    "lab_enc = preprocessing.LabelEncoder()\n",
    "label_Y = lab_enc.fit_transform(Y)\n",
    "\n",
    "# Normalize the input features of the dataset\n",
    "normalizer = preprocessing.StandardScaler()\n",
    "norm_X = normalizer.fit_transform(X)"
   ]
  },
  {
   "cell_type": "code",
   "execution_count": 18,
   "id": "52064458",
   "metadata": {
    "execution": {
     "iopub.execute_input": "2021-10-08T01:29:36.299442Z",
     "iopub.status.busy": "2021-10-08T01:29:36.298758Z",
     "iopub.status.idle": "2021-10-08T01:29:36.302516Z",
     "shell.execute_reply": "2021-10-08T01:29:36.301989Z",
     "shell.execute_reply.started": "2021-10-08T01:25:03.190301Z"
    },
    "papermill": {
     "duration": 0.042755,
     "end_time": "2021-10-08T01:29:36.302667",
     "exception": false,
     "start_time": "2021-10-08T01:29:36.259912",
     "status": "completed"
    },
    "tags": []
   },
   "outputs": [],
   "source": [
    "# Normalize the Test features of the dataset\n",
    "norm_X_test = normalizer.transform(df_test)"
   ]
  },
  {
   "cell_type": "code",
   "execution_count": 19,
   "id": "f50799fc",
   "metadata": {
    "execution": {
     "iopub.execute_input": "2021-10-08T01:29:36.376843Z",
     "iopub.status.busy": "2021-10-08T01:29:36.376139Z",
     "iopub.status.idle": "2021-10-08T01:29:36.405791Z",
     "shell.execute_reply": "2021-10-08T01:29:36.406716Z",
     "shell.execute_reply.started": "2021-10-08T01:25:03.198452Z"
    },
    "papermill": {
     "duration": 0.070581,
     "end_time": "2021-10-08T01:29:36.407023",
     "exception": false,
     "start_time": "2021-10-08T01:29:36.336442",
     "status": "completed"
    },
    "tags": []
   },
   "outputs": [],
   "source": [
    "# Visualizing the Principal Components in the feature space\n",
    "\n",
    "pca = PCA()\n",
    "pca.fit(norm_X)\n",
    "loadings = pca.components_\n",
    "num_pc = pca.n_features_\n",
    "pc_list = [\"PC\" + str(i) for i in list(range(1, num_pc + 1))]\n",
    "loadings_df = pd.DataFrame.from_dict(dict(zip(pc_list, loadings)))\n",
    "loadings_df['variable'] = X.columns.values\n",
    "loadings_df = loadings_df.set_index('variable')"
   ]
  },
  {
   "cell_type": "code",
   "execution_count": 20,
   "id": "083be2a1",
   "metadata": {
    "execution": {
     "iopub.execute_input": "2021-10-08T01:29:36.537803Z",
     "iopub.status.busy": "2021-10-08T01:29:36.532105Z",
     "iopub.status.idle": "2021-10-08T01:29:38.874036Z",
     "shell.execute_reply": "2021-10-08T01:29:38.874645Z",
     "shell.execute_reply.started": "2021-10-08T01:25:03.237283Z"
    },
    "papermill": {
     "duration": 2.399416,
     "end_time": "2021-10-08T01:29:38.874821",
     "exception": false,
     "start_time": "2021-10-08T01:29:36.475405",
     "status": "completed"
    },
    "tags": []
   },
   "outputs": [
    {
     "data": {
      "image/png": "[encoded data removed]",
      "text/plain": [
       "<Figure size 432x288 with 1 Axes>"
      ]
     },
     "metadata": {
      "needs_background": "light"
     },
     "output_type": "display_data"
    }
   ],
   "source": [
    "# Screeplot of Principal Components\n",
    "cluster.screeplot(obj=[pc_list, pca.explained_variance_ratio_])\n",
    "\n",
    "# 2D Bi-plot of Principal Components\n",
    "pca_scores = PCA().fit_transform(norm_X)\n",
    "cluster.biplot(cscore=pca_scores, loadings=loadings, labels=X.columns.values, \n",
    "               var1=round(pca.explained_variance_ratio_[0]*100, 2),\n",
    "               var2=round(pca.explained_variance_ratio_[1]*100, 2), \n",
    "               colorlist=Y)\n",
    "\n",
    "\n",
    "# Cumulative Explained Variance Plot\n",
    "plt.plot(np.cumsum(pca.explained_variance_ratio_)); \n",
    "plt.title('CUMULATIVE EXPLAINED VARIANCE OF THE PRINCIPAL COMPONENTS')\n",
    "plt.xlabel('Number of Components'); \n",
    "plt.ylabel('Cumulative Explained Variance')\n",
    "plt.show()"
   ]
  },
  {
   "cell_type": "code",
   "execution_count": 41,
   "id": "424b2695",
   "metadata": {
    "execution": {
     "iopub.execute_input": "2021-10-08T01:29:38.949911Z",
     "iopub.status.busy": "2021-10-08T01:29:38.949329Z",
     "iopub.status.idle": "2021-10-08T01:29:38.951954Z",
     "shell.execute_reply": "2021-10-08T01:29:38.952371Z",
     "shell.execute_reply.started": "2021-10-08T01:25:05.958668Z"
    },
    "papermill": {
     "duration": 0.043519,
     "end_time": "2021-10-08T01:29:38.952539",
     "exception": false,
     "start_time": "2021-10-08T01:29:38.909020",
     "status": "completed"
    },
    "tags": []
   },
   "outputs": [],
   "source": [
    "from sklearn.metrics import confusion_matrix, classification_report\n",
    "\n"
   ]
  },
  {
   "cell_type": "code",
   "execution_count": 42,
   "id": "219a68c2",
   "metadata": {
    "execution": {
     "iopub.execute_input": "2021-10-08T01:29:39.028367Z",
     "iopub.status.busy": "2021-10-08T01:29:39.027670Z",
     "iopub.status.idle": "2021-10-08T01:29:39.029510Z",
     "shell.execute_reply": "2021-10-08T01:29:39.030049Z",
     "shell.execute_reply.started": "2021-10-08T01:25:05.966851Z"
    },
    "papermill": {
     "duration": 0.044001,
     "end_time": "2021-10-08T01:29:39.030318",
     "exception": false,
     "start_time": "2021-10-08T01:29:38.986317",
     "status": "completed"
    },
    "tags": []
   },
   "outputs": [],
   "source": [
    "####################################################\n",
    "################ MACHINE LEARNING ##################\n",
    "####################################################\n",
    "\n",
    "def training_model_metrics(model, X, Y):\n",
    "    train_x, test_x, train_y, test_y = train_test_split(X, Y, test_size=0.2, random_state=12, shuffle=True)\n",
    "    model.fit(train_x, train_y)\n",
    "    y_pred = model.predict(test_x)\n",
    "    model_acc = metrics.accuracy_score(test_y, y_pred)\n",
    "    f1_measure = metrics.f1_score(test_y, y_pred, average='macro')\n",
    "    model_precision = metrics.precision_score(test_y, y_pred, average='macro')\n",
    "    model_recall = metrics.recall_score(test_y, y_pred, average='macro')\n",
    "    print('Accuracy: %.3f, f1 measure: %.3f, precision: %.3f, recall: %.3f' % (model_acc, f1_measure, model_precision, model_recall))\n",
    "    #plot2(test_y, model.predict(test_x));\n",
    "    plt.show()"
   ]
  },
  {
   "cell_type": "code",
   "execution_count": 43,
   "id": "21b14bcf",
   "metadata": {
    "execution": {
     "iopub.execute_input": "2021-10-08T01:29:39.105426Z",
     "iopub.status.busy": "2021-10-08T01:29:39.104810Z",
     "iopub.status.idle": "2021-10-08T01:29:39.107615Z",
     "shell.execute_reply": "2021-10-08T01:29:39.106997Z",
     "shell.execute_reply.started": "2021-10-08T01:25:05.978590Z"
    },
    "papermill": {
     "duration": 0.043172,
     "end_time": "2021-10-08T01:29:39.107763",
     "exception": false,
     "start_time": "2021-10-08T01:29:39.064591",
     "status": "completed"
    },
    "tags": []
   },
   "outputs": [],
   "source": [
    "def optimize_param(model, param, X_optim, Y_optim):\n",
    "    rf_grid = RandomizedSearchCV(estimator=model, n_iter=30, param_distributions=param, scoring='f1_macro', n_jobs=-1,\n",
    "                                 cv=5, verbose=2, random_state=12)\n",
    "    print('Performance Metrics for ML Model of Dataset using optimized hyper-parameters')\n",
    "    print('-----------------------------------------------------------------------')\n",
    "    training_model_metrics(rf_grid, X_optim, Y_optim)\n",
    "    print('The hyper-parameters with the best f1_macro performance:')\n",
    "    print('----------------------------------------------------------')\n",
    "    print(rf_grid.best_params_)"
   ]
  },
  {
   "cell_type": "code",
   "execution_count": 44,
   "id": "59aa1638",
   "metadata": {
    "execution": {
     "iopub.execute_input": "2021-10-08T01:29:39.183549Z",
     "iopub.status.busy": "2021-10-08T01:29:39.182820Z",
     "iopub.status.idle": "2021-10-08T01:29:39.184471Z",
     "shell.execute_reply": "2021-10-08T01:29:39.184873Z",
     "shell.execute_reply.started": "2021-10-08T01:25:05.991226Z"
    },
    "papermill": {
     "duration": 0.043326,
     "end_time": "2021-10-08T01:29:39.185047",
     "exception": false,
     "start_time": "2021-10-08T01:29:39.141721",
     "status": "completed"
    },
    "tags": []
   },
   "outputs": [],
   "source": [
    "def evaluate_PC(model, user_input, user_output):\n",
    "    train_x, test_x, train_y, test_y = train_test_split(user_input, user_output, test_size=0.2, random_state=12, shuffle=True)\n",
    "    acc, comp = list(), list()\n",
    "\n",
    "    for n in range(1, 16):\n",
    "        pca = PCA(n_components=n)\n",
    "        pca.fit(train_x)\n",
    "        pca_transform = pca.fit_transform(train_x)\n",
    "        cv = KFold(n_splits=5, shuffle=True, random_state=12)\n",
    "        scores = cross_val_score(model, pca_transform, train_y, scoring='f1_macro', cv=cv, n_jobs=-1)\n",
    "        acc.append(np.mean(scores))\n",
    "        comp.append(n)\n",
    "        print('> No of Components=%d, Accuracy=%.3f' % (n, np.mean(scores)))\n",
    "\n",
    "    return acc, comp"
   ]
  },
  {
   "cell_type": "code",
   "execution_count": 45,
   "id": "e1487485",
   "metadata": {
    "execution": {
     "iopub.execute_input": "2021-10-08T01:29:39.259869Z",
     "iopub.status.busy": "2021-10-08T01:29:39.256948Z",
     "iopub.status.idle": "2021-10-08T01:29:39.262268Z",
     "shell.execute_reply": "2021-10-08T01:29:39.262717Z",
     "shell.execute_reply.started": "2021-10-08T01:25:06.008283Z"
    },
    "papermill": {
     "duration": 0.043866,
     "end_time": "2021-10-08T01:29:39.262880",
     "exception": false,
     "start_time": "2021-10-08T01:29:39.219014",
     "status": "completed"
    },
    "tags": []
   },
   "outputs": [],
   "source": [
    "def display_perf_plot(acc, comp):\n",
    "    plt.plot(comp, acc)\n",
    "    plt.title('PRINCIPAL COMPONENT ANALYSIS PERFORMANCE PLOT USING CROSS-VALIDATION')\n",
    "    plt.axhline(y=max(acc), color='r', linestyle='--')\n",
    "    plt.xlabel('NUMBER OF COMPONENTS')\n",
    "    plt.ylabel('F1-MEASURE')\n",
    "    plt.show()"
   ]
  },
  {
   "cell_type": "code",
   "execution_count": 46,
   "id": "3da0d448",
   "metadata": {
    "execution": {
     "iopub.execute_input": "2021-10-08T01:29:39.338251Z",
     "iopub.status.busy": "2021-10-08T01:29:39.337633Z",
     "iopub.status.idle": "2021-10-08T01:29:39.339396Z",
     "shell.execute_reply": "2021-10-08T01:29:39.339784Z",
     "shell.execute_reply.started": "2021-10-08T01:25:06.019718Z"
    },
    "papermill": {
     "duration": 0.043233,
     "end_time": "2021-10-08T01:29:39.339948",
     "exception": false,
     "start_time": "2021-10-08T01:29:39.296715",
     "status": "completed"
    },
    "tags": []
   },
   "outputs": [],
   "source": [
    "def KFold_evaluation(model, X, Y):\n",
    "    means, mins, maxs = list(), list(), list()\n",
    "    folds = range(2, 13)\n",
    "    for k in folds:\n",
    "        cv = KFold(n_splits=k, shuffle=True, random_state=12)\n",
    "        scores = cross_val_score(model, X, Y, scoring='f1_macro', cv=cv, n_jobs=-1)\n",
    "        means.append(np.mean(scores))\n",
    "        mins.append(np.mean(scores) - scores.min())\n",
    "        maxs.append(scores.max() - np.mean(scores))\n",
    "    plt.errorbar(folds, means, yerr=[mins, maxs], fmt='o')\n",
    "    plt.title('CROSS-VALIDATION PERFORMANCE EVALUATION')\n",
    "    plt.xlabel('NUMBER OF FOLDS')\n",
    "    plt.ylabel('F1-MEASURE')\n",
    "    plt.axhline(y=max(means), color='r', linestyle='--')\n",
    "    plt.show()"
   ]
  },
  {
   "cell_type": "code",
   "execution_count": 47,
   "id": "2c74a432",
   "metadata": {
    "execution": {
     "iopub.execute_input": "2021-10-08T01:29:39.413711Z",
     "iopub.status.busy": "2021-10-08T01:29:39.410647Z",
     "iopub.status.idle": "2021-10-08T01:29:43.241974Z",
     "shell.execute_reply": "2021-10-08T01:29:43.242589Z",
     "shell.execute_reply.started": "2021-10-08T01:25:06.032049Z"
    },
    "papermill": {
     "duration": 3.86887,
     "end_time": "2021-10-08T01:29:43.242775",
     "exception": false,
     "start_time": "2021-10-08T01:29:39.373905",
     "status": "completed"
    },
    "tags": []
   },
   "outputs": [
    {
     "name": "stdout",
     "output_type": "stream",
     "text": [
      "******************RANDOM FOREST CLASSIFICATION MODEL**************************\n",
      "Performance metrics for Random Forest Classification of Original Data\n",
      "-----------------------------------------------------------------------\n",
      "Performance Metrics for ML Model of Dataset using default hyper-parameters\n",
      "-----------------------------------------------------------------------\n",
      "(9705, 16) (9705,)\n",
      "Accuracy: 0.906, f1 measure: 0.912, precision: 0.917, recall: 0.909\n"
     ]
    }
   ],
   "source": [
    "####################################################\n",
    "############ Random Forest Classification ##########\n",
    "####################################################\n",
    "print('******************RANDOM FOREST CLASSIFICATION MODEL**************************')\n",
    "rf_model = RandomForestClassifier(random_state=12)\n",
    "\n",
    "print('Performance metrics for Random Forest Classification of Original Data')\n",
    "print('-----------------------------------------------------------------------')\n",
    "print('Performance Metrics for ML Model of Dataset using default hyper-parameters')\n",
    "print('-----------------------------------------------------------------------')\n",
    "#print(norm_X.shape, label_Y.shape)\n",
    "training_model_metrics(rf_model, norm_X, label_Y)"
   ]
  },
  {
   "cell_type": "code",
   "execution_count": 48,
   "id": "f759f4b6",
   "metadata": {
    "execution": {
     "iopub.execute_input": "2021-10-08T01:29:43.325906Z",
     "iopub.status.busy": "2021-10-08T01:29:43.324855Z",
     "iopub.status.idle": "2021-10-08T01:29:43.716999Z",
     "shell.execute_reply": "2021-10-08T01:29:43.716497Z",
     "shell.execute_reply.started": "2021-10-08T01:25:09.909650Z"
    },
    "papermill": {
     "duration": 0.437031,
     "end_time": "2021-10-08T01:29:43.717328",
     "exception": false,
     "start_time": "2021-10-08T01:29:43.280297",
     "status": "completed"
    },
    "tags": []
   },
   "outputs": [
    {
     "data": {
      "image/png": "[encoded data removed]",
      "text/plain": [
       "<Figure size 648x216 with 1 Axes>"
      ]
     },
     "metadata": {
      "needs_background": "light"
     },
     "output_type": "display_data"
    }
   ],
   "source": [
    "# Applying SMOTE technique on the dataset\n",
    "sm = SMOTE(random_state=12)\n",
    "X_sm, Y_sm = sm.fit_resample(norm_X, label_Y)\n",
    "\n",
    "# Bar Chart to visualize the labels in the output variable in the SMOTE Balanced Dataset\n",
    "Y_balanced = lab_enc.inverse_transform(Y_sm)\n",
    "Y_balanced = pd.Index(Y_balanced, name='Class')\n",
    "var = Y_balanced\n",
    "varValue = var.value_counts()\n",
    "plt.figure(figsize=(9, 3))\n",
    "plt.bar(varValue.index, varValue,\n",
    "        color= \"blue\", edgecolor=\"yellow\",\n",
    "        linewidth=\"2\");plt.xticks(varValue.index,\n",
    "                                  varValue.index.values)\n",
    "plt.ylabel(\"Frequency\")\n",
    "plt.title('Class')\n",
    "plt.show()"
   ]
  },
  {
   "cell_type": "code",
   "execution_count": 49,
   "id": "9a4a091c",
   "metadata": {
    "execution": {
     "iopub.execute_input": "2021-10-08T01:29:43.796548Z",
     "iopub.status.busy": "2021-10-08T01:29:43.795527Z",
     "iopub.status.idle": "2021-10-08T01:29:50.277574Z",
     "shell.execute_reply": "2021-10-08T01:29:50.278059Z",
     "shell.execute_reply.started": "2021-10-08T01:25:10.316689Z"
    },
    "papermill": {
     "duration": 6.5243,
     "end_time": "2021-10-08T01:29:50.278245",
     "exception": false,
     "start_time": "2021-10-08T01:29:43.753945",
     "status": "completed"
    },
    "tags": []
   },
   "outputs": [
    {
     "name": "stdout",
     "output_type": "stream",
     "text": [
      "-----------------------------------------------------------------------\n",
      "Performance metrics for Random Forest Classification of SMOTE Balanced Data\n",
      "-----------------------------------------------------------------------\n",
      "Performance Metrics for ML Model of Dataset using default hyper-parameters\n",
      "-----------------------------------------------------------------------\n",
      "Accuracy: 0.952, f1 measure: 0.952, precision: 0.952, recall: 0.952\n"
     ]
    }
   ],
   "source": [
    "print('-----------------------------------------------------------------------')\n",
    "print('Performance metrics for Random Forest Classification of SMOTE Balanced Data')\n",
    "print('-----------------------------------------------------------------------')\n",
    "print('Performance Metrics for ML Model of Dataset using default hyper-parameters')\n",
    "print('-----------------------------------------------------------------------')\n",
    "training_model_metrics(rf_model, X_sm, Y_sm)"
   ]
  },
  {
   "cell_type": "code",
   "execution_count": 50,
   "id": "145e2faa",
   "metadata": {
    "execution": {
     "iopub.execute_input": "2021-10-08T01:29:50.361811Z",
     "iopub.status.busy": "2021-10-08T01:29:50.359259Z",
     "iopub.status.idle": "2021-10-08T01:29:50.370089Z",
     "shell.execute_reply": "2021-10-08T01:29:50.370591Z",
     "shell.execute_reply.started": "2021-10-08T01:25:16.891500Z"
    },
    "papermill": {
     "duration": 0.053346,
     "end_time": "2021-10-08T01:29:50.370810",
     "exception": false,
     "start_time": "2021-10-08T01:29:50.317464",
     "status": "completed"
    },
    "tags": []
   },
   "outputs": [],
   "source": [
    "from sklearn.pipeline import Pipeline\n",
    "from sklearn.preprocessing import StandardScaler\n",
    "from sklearn.impute import SimpleImputer\n",
    "\n",
    "num_pipeline_deep = Pipeline([\n",
    "                    ('imputer', SimpleImputer(strategy='median')),\n",
    "                    ('scaler', StandardScaler()),\n",
    "                    ('pca', PCA(n_components=0.999))\n",
    "                        ])"
   ]
  },
  {
   "cell_type": "code",
   "execution_count": 67,
   "id": "f3be8bc1",
   "metadata": {
    "execution": {
     "iopub.execute_input": "2021-10-08T01:29:50.454406Z",
     "iopub.status.busy": "2021-10-08T01:29:50.451406Z",
     "iopub.status.idle": "2021-10-08T01:29:54.678932Z",
     "shell.execute_reply": "2021-10-08T01:29:54.679353Z",
     "shell.execute_reply.started": "2021-10-08T01:25:16.904226Z"
    },
    "papermill": {
     "duration": 4.270017,
     "end_time": "2021-10-08T01:29:54.679526",
     "exception": false,
     "start_time": "2021-10-08T01:29:50.409509",
     "status": "completed"
    },
    "tags": []
   },
   "outputs": [
    {
     "name": "stdout",
     "output_type": "stream",
     "text": [
      "Accuracy: 0.952, f1 measure: 0.953, precision: 0.953, recall: 0.953\n"
     ]
    }
   ],
   "source": [
    "# PCA Dimensionality Reduction to 8 PCs\n",
    "pca_rfsm = num_pipeline_deep.fit_transform(X_sm)\n",
    "pca_test = num_pipeline_deep.transform(norm_X_test)\n",
    "training_model_metrics(rf_model, pca_rfsm, Y_sm)"
   ]
  },
  {
   "cell_type": "code",
   "execution_count": 71,
   "id": "377b6bfa",
   "metadata": {},
   "outputs": [],
   "source": [
    "df_submit = pd.read_csv('sample_submission.csv', index_col='ID')\n",
    "df_submit.head()\n",
    "y_pred = rf_model.predict(pca_test)\n",
    "\n",
    "y_test = lab_enc.inverse_transform(y_pred)\n",
    "df_submit.y= y_test\n"
   ]
  },
  {
   "cell_type": "code",
   "execution_count": 73,
   "id": "b83f8aa7",
   "metadata": {},
   "outputs": [],
   "source": [
    "df_submit.to_csv('aaaaaaaaaaaaa00.csv')"
   ]
  },
  {
   "cell_type": "raw",
   "id": "04f51933",
   "metadata": {
    "execution": {
     "iopub.execute_input": "2021-10-08T01:29:54.762890Z",
     "iopub.status.busy": "2021-10-08T01:29:54.762318Z",
     "iopub.status.idle": "2021-10-08T01:29:54.768419Z",
     "shell.execute_reply": "2021-10-08T01:29:54.768835Z",
     "shell.execute_reply.started": "2021-10-08T01:25:21.264506Z"
    },
    "papermill": {
     "duration": 0.0496,
     "end_time": "2021-10-08T01:29:54.769004",
     "exception": false,
     "start_time": "2021-10-08T01:29:54.719404",
     "status": "completed"
    },
    "tags": []
   },
   "source": [
    "X_train, X_val, y_train, y_val = train_test_split(pca_rfsm, Y_sm, test_size=0.2, random_state=21)"
   ]
  },
  {
   "cell_type": "code",
   "execution_count": 53,
   "id": "09bea89b",
   "metadata": {
    "execution": {
     "iopub.execute_input": "2021-10-08T01:29:54.854639Z",
     "iopub.status.busy": "2021-10-08T01:29:54.851529Z",
     "iopub.status.idle": "2021-10-08T01:29:59.662182Z",
     "shell.execute_reply": "2021-10-08T01:29:59.661659Z",
     "shell.execute_reply.started": "2021-10-08T01:25:21.274656Z"
    },
    "papermill": {
     "duration": 4.853402,
     "end_time": "2021-10-08T01:29:59.662407",
     "exception": false,
     "start_time": "2021-10-08T01:29:54.809005",
     "status": "completed"
    },
    "tags": []
   },
   "outputs": [
    {
     "name": "stdout",
     "output_type": "stream",
     "text": [
      "WARNING:tensorflow:Please fix your imports. Module tensorflow.python.training.tracking.base has been moved to tensorflow.python.trackable.base. The old module will be deleted in version 2.11.\n",
      "WARNING:tensorflow:Please fix your imports. Module tensorflow.python.training.checkpoint_management has been moved to tensorflow.python.checkpoint.checkpoint_management. The old module will be deleted in version 2.9.\n",
      "WARNING:tensorflow:Please fix your imports. Module tensorflow.python.training.tracking.resource has been moved to tensorflow.python.trackable.resource. The old module will be deleted in version 2.11.\n",
      "WARNING:tensorflow:Please fix your imports. Module tensorflow.python.training.tracking.util has been moved to tensorflow.python.checkpoint.checkpoint. The old module will be deleted in version 2.11.\n",
      "WARNING:tensorflow:Please fix your imports. Module tensorflow.python.training.tracking.base_delegate has been moved to tensorflow.python.trackable.base_delegate. The old module will be deleted in version 2.11.\n",
      "WARNING:tensorflow:Please fix your imports. Module tensorflow.python.training.tracking.graph_view has been moved to tensorflow.python.checkpoint.graph_view. The old module will be deleted in version 2.11.\n",
      "WARNING:tensorflow:Please fix your imports. Module tensorflow.python.training.tracking.python_state has been moved to tensorflow.python.trackable.python_state. The old module will be deleted in version 2.11.\n",
      "WARNING:tensorflow:Please fix your imports. Module tensorflow.python.training.saving.functional_saver has been moved to tensorflow.python.checkpoint.functional_saver. The old module will be deleted in version 2.11.\n",
      "WARNING:tensorflow:Please fix your imports. Module tensorflow.python.training.saving.checkpoint_options has been moved to tensorflow.python.checkpoint.checkpoint_options. The old module will be deleted in version 2.11.\n"
     ]
    }
   ],
   "source": [
    "\n",
    "### Tensorflow and Keras\n",
    "from tensorflow.keras.layers import Dense\n",
    "from tensorflow.keras.models import Sequential\n",
    "from tensorflow.keras import optimizers\n",
    "from tensorflow.keras.utils import to_categorical\n",
    "from tensorflow.keras.callbacks import EarlyStopping\n",
    "from tensorflow.keras import regularizers\n",
    "from tensorflow.keras.layers import Dropout"
   ]
  },
  {
   "cell_type": "code",
   "execution_count": 54,
   "id": "6289bcba",
   "metadata": {},
   "outputs": [
    {
     "data": {
      "text/plain": [
       "(13531, 8)"
      ]
     },
     "execution_count": 54,
     "metadata": {},
     "output_type": "execute_result"
    }
   ],
   "source": [
    "X_train.shape"
   ]
  },
  {
   "cell_type": "code",
   "execution_count": 55,
   "id": "41306cdf",
   "metadata": {
    "execution": {
     "iopub.execute_input": "2021-10-08T01:29:59.751810Z",
     "iopub.status.busy": "2021-10-08T01:29:59.751067Z",
     "iopub.status.idle": "2021-10-08T01:29:59.894468Z",
     "shell.execute_reply": "2021-10-08T01:29:59.893920Z",
     "shell.execute_reply.started": "2021-10-08T01:25:26.675105Z"
    },
    "papermill": {
     "duration": 0.190694,
     "end_time": "2021-10-08T01:29:59.894615",
     "exception": false,
     "start_time": "2021-10-08T01:29:59.703921",
     "status": "completed"
    },
    "tags": []
   },
   "outputs": [],
   "source": [
    "### Building the Model\n",
    "\n",
    "model = Sequential()\n",
    "model.add(Dense(512, activation='tanh', input_shape=(8,)))\n",
    "model.add(Dropout(0.2))\n",
    "model.add(Dense(256, activation='tanh'))\n",
    "model.add(Dropout(0.2))\n",
    "model.add(Dense(128, activation='tanh'))\n",
    "model.add(Dropout(0.2))\n",
    "model.add(Dense(64, activation='tanh'))\n",
    "model.add(Dropout(0.2))\n",
    "model.add(Dense(32, activation='tanh'))\n",
    "model.add(Dropout(0.2))\n",
    "model.add(Dense(7, activation='softmax'))"
   ]
  },
  {
   "cell_type": "code",
   "execution_count": 56,
   "id": "0ccf42c7",
   "metadata": {
    "execution": {
     "iopub.execute_input": "2021-10-08T01:29:59.988693Z",
     "iopub.status.busy": "2021-10-08T01:29:59.987360Z",
     "iopub.status.idle": "2021-10-08T01:33:27.482545Z",
     "shell.execute_reply": "2021-10-08T01:33:27.483273Z",
     "shell.execute_reply.started": "2021-10-08T01:25:26.838211Z"
    },
    "papermill": {
     "duration": 207.547962,
     "end_time": "2021-10-08T01:33:27.483561",
     "exception": false,
     "start_time": "2021-10-08T01:29:59.935599",
     "status": "completed"
    },
    "tags": []
   },
   "outputs": [
    {
     "name": "stdout",
     "output_type": "stream",
     "text": [
      "Epoch 1/100\n",
      "423/423 [==============================] - 5s 9ms/step - loss: 0.6406 - accuracy: 0.8229 - val_loss: 0.3037 - val_accuracy: 0.9161\n",
      "Epoch 2/100\n",
      "423/423 [==============================] - 4s 9ms/step - loss: 0.3554 - accuracy: 0.9002 - val_loss: 0.2371 - val_accuracy: 0.9249\n",
      "Epoch 3/100\n",
      "423/423 [==============================] - 4s 9ms/step - loss: 0.2959 - accuracy: 0.9096 - val_loss: 0.2158 - val_accuracy: 0.9285\n",
      "Epoch 4/100\n",
      "423/423 [==============================] - 3s 8ms/step - loss: 0.2705 - accuracy: 0.9161 - val_loss: 0.2160 - val_accuracy: 0.9261\n",
      "Epoch 5/100\n",
      "423/423 [==============================] - 3s 7ms/step - loss: 0.2613 - accuracy: 0.9175 - val_loss: 0.2029 - val_accuracy: 0.9320\n",
      "Epoch 6/100\n",
      "423/423 [==============================] - 3s 7ms/step - loss: 0.2514 - accuracy: 0.9203 - val_loss: 0.2111 - val_accuracy: 0.9288\n",
      "Epoch 7/100\n",
      "423/423 [==============================] - 3s 7ms/step - loss: 0.2510 - accuracy: 0.9195 - val_loss: 0.2003 - val_accuracy: 0.9308\n",
      "Epoch 8/100\n",
      "423/423 [==============================] - 3s 7ms/step - loss: 0.2483 - accuracy: 0.9186 - val_loss: 0.1971 - val_accuracy: 0.9320\n",
      "Epoch 9/100\n",
      "423/423 [==============================] - 3s 7ms/step - loss: 0.2472 - accuracy: 0.9213 - val_loss: 0.1963 - val_accuracy: 0.9326\n",
      "Epoch 10/100\n",
      "423/423 [==============================] - 3s 7ms/step - loss: 0.2406 - accuracy: 0.9217 - val_loss: 0.1983 - val_accuracy: 0.9311\n",
      "Epoch 11/100\n",
      "423/423 [==============================] - 3s 7ms/step - loss: 0.2386 - accuracy: 0.9243 - val_loss: 0.1939 - val_accuracy: 0.9359\n",
      "Epoch 12/100\n",
      "423/423 [==============================] - 3s 7ms/step - loss: 0.2373 - accuracy: 0.9224 - val_loss: 0.1957 - val_accuracy: 0.9320\n",
      "Epoch 13/100\n",
      "423/423 [==============================] - 3s 7ms/step - loss: 0.2358 - accuracy: 0.9234 - val_loss: 0.1909 - val_accuracy: 0.9335\n",
      "Epoch 14/100\n",
      "423/423 [==============================] - 3s 7ms/step - loss: 0.2314 - accuracy: 0.9252 - val_loss: 0.1909 - val_accuracy: 0.9353\n",
      "Epoch 15/100\n",
      "423/423 [==============================] - 3s 8ms/step - loss: 0.2315 - accuracy: 0.9242 - val_loss: 0.1917 - val_accuracy: 0.9311\n",
      "Epoch 16/100\n",
      "423/423 [==============================] - 3s 7ms/step - loss: 0.2330 - accuracy: 0.9245 - val_loss: 0.1872 - val_accuracy: 0.9353\n",
      "Epoch 17/100\n",
      "423/423 [==============================] - 3s 7ms/step - loss: 0.2263 - accuracy: 0.9258 - val_loss: 0.1896 - val_accuracy: 0.9359\n",
      "Epoch 18/100\n",
      "423/423 [==============================] - 3s 7ms/step - loss: 0.2277 - accuracy: 0.9264 - val_loss: 0.1857 - val_accuracy: 0.9353\n",
      "Epoch 19/100\n",
      "423/423 [==============================] - 3s 7ms/step - loss: 0.2236 - accuracy: 0.9276 - val_loss: 0.1871 - val_accuracy: 0.9362\n",
      "Epoch 20/100\n",
      "423/423 [==============================] - 3s 7ms/step - loss: 0.2257 - accuracy: 0.9265 - val_loss: 0.1827 - val_accuracy: 0.9359\n",
      "Epoch 21/100\n",
      "423/423 [==============================] - 3s 8ms/step - loss: 0.2244 - accuracy: 0.9259 - val_loss: 0.1866 - val_accuracy: 0.9359\n",
      "Epoch 22/100\n",
      "423/423 [==============================] - 3s 7ms/step - loss: 0.2231 - accuracy: 0.9257 - val_loss: 0.1869 - val_accuracy: 0.9341\n",
      "Epoch 23/100\n",
      "423/423 [==============================] - 3s 7ms/step - loss: 0.2228 - accuracy: 0.9267 - val_loss: 0.1827 - val_accuracy: 0.9367\n",
      "Epoch 24/100\n",
      "423/423 [==============================] - 4s 9ms/step - loss: 0.2175 - accuracy: 0.9294 - val_loss: 0.1840 - val_accuracy: 0.9350\n",
      "Epoch 25/100\n",
      "423/423 [==============================] - 3s 7ms/step - loss: 0.2227 - accuracy: 0.9281 - val_loss: 0.1881 - val_accuracy: 0.9356\n",
      "Epoch 26/100\n",
      "423/423 [==============================] - 3s 7ms/step - loss: 0.2185 - accuracy: 0.9289 - val_loss: 0.1809 - val_accuracy: 0.9362\n",
      "Epoch 27/100\n",
      "423/423 [==============================] - 3s 7ms/step - loss: 0.2192 - accuracy: 0.9271 - val_loss: 0.1849 - val_accuracy: 0.9382\n",
      "Epoch 28/100\n",
      "423/423 [==============================] - 4s 8ms/step - loss: 0.2159 - accuracy: 0.9288 - val_loss: 0.1838 - val_accuracy: 0.9359\n",
      "Epoch 29/100\n",
      "423/423 [==============================] - 3s 8ms/step - loss: 0.2155 - accuracy: 0.9282 - val_loss: 0.1860 - val_accuracy: 0.9356\n",
      "Epoch 30/100\n",
      "423/423 [==============================] - 3s 8ms/step - loss: 0.2163 - accuracy: 0.9284 - val_loss: 0.1829 - val_accuracy: 0.9370\n",
      "Epoch 31/100\n",
      "423/423 [==============================] - 3s 7ms/step - loss: 0.2193 - accuracy: 0.9267 - val_loss: 0.1810 - val_accuracy: 0.9388\n",
      "Epoch 32/100\n",
      "423/423 [==============================] - 3s 7ms/step - loss: 0.2152 - accuracy: 0.9282 - val_loss: 0.1786 - val_accuracy: 0.9388\n",
      "Epoch 33/100\n",
      "423/423 [==============================] - 3s 6ms/step - loss: 0.2175 - accuracy: 0.9268 - val_loss: 0.1760 - val_accuracy: 0.9397\n",
      "Epoch 34/100\n",
      "423/423 [==============================] - 3s 6ms/step - loss: 0.2114 - accuracy: 0.9293 - val_loss: 0.1848 - val_accuracy: 0.9373\n",
      "Epoch 35/100\n",
      "423/423 [==============================] - 2s 6ms/step - loss: 0.2139 - accuracy: 0.9291 - val_loss: 0.1784 - val_accuracy: 0.9388\n",
      "Epoch 36/100\n",
      "423/423 [==============================] - 2s 6ms/step - loss: 0.2136 - accuracy: 0.9293 - val_loss: 0.1811 - val_accuracy: 0.9382\n",
      "Epoch 37/100\n",
      "423/423 [==============================] - 2s 6ms/step - loss: 0.2131 - accuracy: 0.9301 - val_loss: 0.1788 - val_accuracy: 0.9376\n",
      "Epoch 38/100\n",
      "423/423 [==============================] - 2s 6ms/step - loss: 0.2140 - accuracy: 0.9273 - val_loss: 0.1771 - val_accuracy: 0.9373\n",
      "Epoch 39/100\n",
      "423/423 [==============================] - 2s 6ms/step - loss: 0.2101 - accuracy: 0.9296 - val_loss: 0.1770 - val_accuracy: 0.9382\n",
      "Epoch 40/100\n",
      "423/423 [==============================] - 2s 6ms/step - loss: 0.2136 - accuracy: 0.9288 - val_loss: 0.1753 - val_accuracy: 0.9385\n",
      "Epoch 41/100\n",
      "423/423 [==============================] - 2s 6ms/step - loss: 0.2116 - accuracy: 0.9285 - val_loss: 0.1792 - val_accuracy: 0.9376\n",
      "Epoch 42/100\n",
      "423/423 [==============================] - 3s 7ms/step - loss: 0.2106 - accuracy: 0.9305 - val_loss: 0.1796 - val_accuracy: 0.9394\n",
      "Epoch 43/100\n",
      "423/423 [==============================] - 3s 8ms/step - loss: 0.2103 - accuracy: 0.9292 - val_loss: 0.1780 - val_accuracy: 0.9400\n",
      "Epoch 44/100\n",
      "423/423 [==============================] - 2s 6ms/step - loss: 0.2067 - accuracy: 0.9313 - val_loss: 0.1774 - val_accuracy: 0.9385\n",
      "Epoch 45/100\n",
      "423/423 [==============================] - 3s 6ms/step - loss: 0.2068 - accuracy: 0.9319 - val_loss: 0.1780 - val_accuracy: 0.9359\n",
      "Epoch 46/100\n",
      "423/423 [==============================] - 2s 6ms/step - loss: 0.2082 - accuracy: 0.9308 - val_loss: 0.1721 - val_accuracy: 0.9397\n",
      "Epoch 47/100\n",
      "423/423 [==============================] - 2s 6ms/step - loss: 0.2108 - accuracy: 0.9300 - val_loss: 0.1753 - val_accuracy: 0.9391\n",
      "Epoch 48/100\n",
      "423/423 [==============================] - 2s 6ms/step - loss: 0.2045 - accuracy: 0.9328 - val_loss: 0.1760 - val_accuracy: 0.9391\n",
      "Epoch 49/100\n",
      "423/423 [==============================] - 2s 6ms/step - loss: 0.2099 - accuracy: 0.9302 - val_loss: 0.1788 - val_accuracy: 0.9391\n",
      "Epoch 50/100\n",
      "423/423 [==============================] - 3s 7ms/step - loss: 0.2089 - accuracy: 0.9305 - val_loss: 0.1748 - val_accuracy: 0.9409\n",
      "Epoch 51/100\n",
      "423/423 [==============================] - 3s 7ms/step - loss: 0.2064 - accuracy: 0.9299 - val_loss: 0.1755 - val_accuracy: 0.9391\n",
      "Epoch 52/100\n",
      "423/423 [==============================] - 2s 6ms/step - loss: 0.2060 - accuracy: 0.9304 - val_loss: 0.1727 - val_accuracy: 0.9400\n",
      "Epoch 53/100\n",
      "423/423 [==============================] - 3s 6ms/step - loss: 0.2080 - accuracy: 0.9313 - val_loss: 0.1706 - val_accuracy: 0.9388\n",
      "Epoch 54/100\n",
      "423/423 [==============================] - 2s 6ms/step - loss: 0.2060 - accuracy: 0.9312 - val_loss: 0.1720 - val_accuracy: 0.9391\n",
      "Epoch 55/100\n",
      "423/423 [==============================] - 2s 6ms/step - loss: 0.2053 - accuracy: 0.9321 - val_loss: 0.1726 - val_accuracy: 0.9382\n",
      "Epoch 56/100\n",
      "423/423 [==============================] - 2s 6ms/step - loss: 0.2051 - accuracy: 0.9316 - val_loss: 0.1751 - val_accuracy: 0.9406\n",
      "Epoch 57/100\n",
      "423/423 [==============================] - 2s 6ms/step - loss: 0.2055 - accuracy: 0.9326 - val_loss: 0.1787 - val_accuracy: 0.9370\n"
     ]
    },
    {
     "name": "stdout",
     "output_type": "stream",
     "text": [
      "Epoch 58/100\n",
      "423/423 [==============================] - 2s 6ms/step - loss: 0.2011 - accuracy: 0.9320 - val_loss: 0.1733 - val_accuracy: 0.9406\n",
      "Epoch 59/100\n",
      "423/423 [==============================] - 2s 6ms/step - loss: 0.2051 - accuracy: 0.9319 - val_loss: 0.1715 - val_accuracy: 0.9397\n",
      "Epoch 60/100\n",
      "423/423 [==============================] - 2s 6ms/step - loss: 0.2009 - accuracy: 0.9342 - val_loss: 0.1691 - val_accuracy: 0.9409\n",
      "Epoch 61/100\n",
      "423/423 [==============================] - 2s 6ms/step - loss: 0.2019 - accuracy: 0.9347 - val_loss: 0.1702 - val_accuracy: 0.9406\n",
      "Epoch 62/100\n",
      "423/423 [==============================] - 2s 6ms/step - loss: 0.2028 - accuracy: 0.9305 - val_loss: 0.1745 - val_accuracy: 0.9379\n",
      "Epoch 63/100\n",
      "423/423 [==============================] - 2s 6ms/step - loss: 0.2014 - accuracy: 0.9356 - val_loss: 0.1724 - val_accuracy: 0.9400\n",
      "Epoch 64/100\n",
      "423/423 [==============================] - 2s 6ms/step - loss: 0.2033 - accuracy: 0.9306 - val_loss: 0.1756 - val_accuracy: 0.9385\n",
      "Epoch 65/100\n",
      "423/423 [==============================] - 2s 6ms/step - loss: 0.1989 - accuracy: 0.9339 - val_loss: 0.1707 - val_accuracy: 0.9391\n",
      "Epoch 66/100\n",
      "423/423 [==============================] - 3s 6ms/step - loss: 0.2016 - accuracy: 0.9329 - val_loss: 0.1705 - val_accuracy: 0.9406\n",
      "Epoch 67/100\n",
      "423/423 [==============================] - 3s 8ms/step - loss: 0.1973 - accuracy: 0.9336 - val_loss: 0.1709 - val_accuracy: 0.9415\n",
      "Epoch 68/100\n",
      "423/423 [==============================] - 4s 8ms/step - loss: 0.1952 - accuracy: 0.9347 - val_loss: 0.1721 - val_accuracy: 0.9382\n",
      "Epoch 69/100\n",
      "423/423 [==============================] - 3s 7ms/step - loss: 0.1965 - accuracy: 0.9334 - val_loss: 0.1753 - val_accuracy: 0.9391\n",
      "Epoch 70/100\n",
      "423/423 [==============================] - 3s 7ms/step - loss: 0.1932 - accuracy: 0.9349 - val_loss: 0.1679 - val_accuracy: 0.9397\n",
      "Epoch 71/100\n",
      "423/423 [==============================] - 3s 7ms/step - loss: 0.1970 - accuracy: 0.9347 - val_loss: 0.1679 - val_accuracy: 0.9412\n",
      "Epoch 72/100\n",
      "423/423 [==============================] - 3s 7ms/step - loss: 0.1993 - accuracy: 0.9330 - val_loss: 0.1681 - val_accuracy: 0.9409\n",
      "Epoch 73/100\n",
      "423/423 [==============================] - 3s 7ms/step - loss: 0.1961 - accuracy: 0.9358 - val_loss: 0.1690 - val_accuracy: 0.9400\n",
      "Epoch 74/100\n",
      "423/423 [==============================] - 3s 7ms/step - loss: 0.2002 - accuracy: 0.9316 - val_loss: 0.1674 - val_accuracy: 0.9412\n",
      "Epoch 75/100\n",
      "423/423 [==============================] - 3s 7ms/step - loss: 0.1993 - accuracy: 0.9313 - val_loss: 0.1672 - val_accuracy: 0.9421\n",
      "Epoch 76/100\n",
      "423/423 [==============================] - 3s 8ms/step - loss: 0.1974 - accuracy: 0.9339 - val_loss: 0.1682 - val_accuracy: 0.9427\n",
      "Epoch 77/100\n",
      "423/423 [==============================] - 3s 7ms/step - loss: 0.1972 - accuracy: 0.9333 - val_loss: 0.1684 - val_accuracy: 0.9427\n",
      "Epoch 78/100\n",
      "423/423 [==============================] - 3s 8ms/step - loss: 0.1928 - accuracy: 0.9353 - val_loss: 0.1679 - val_accuracy: 0.9427\n",
      "Epoch 79/100\n",
      "423/423 [==============================] - 3s 7ms/step - loss: 0.1933 - accuracy: 0.9350 - val_loss: 0.1664 - val_accuracy: 0.9409\n",
      "Epoch 80/100\n",
      "423/423 [==============================] - 3s 7ms/step - loss: 0.1959 - accuracy: 0.9335 - val_loss: 0.1715 - val_accuracy: 0.9418\n",
      "Epoch 81/100\n",
      "423/423 [==============================] - 3s 7ms/step - loss: 0.1949 - accuracy: 0.9333 - val_loss: 0.1682 - val_accuracy: 0.9406\n",
      "Epoch 82/100\n",
      "423/423 [==============================] - 3s 7ms/step - loss: 0.1934 - accuracy: 0.9359 - val_loss: 0.1679 - val_accuracy: 0.9391\n",
      "Epoch 83/100\n",
      "423/423 [==============================] - 3s 8ms/step - loss: 0.1895 - accuracy: 0.9351 - val_loss: 0.1652 - val_accuracy: 0.9424\n",
      "Epoch 84/100\n",
      "423/423 [==============================] - 3s 8ms/step - loss: 0.1959 - accuracy: 0.9338 - val_loss: 0.1632 - val_accuracy: 0.9432\n",
      "Epoch 85/100\n",
      "423/423 [==============================] - 3s 7ms/step - loss: 0.1902 - accuracy: 0.9350 - val_loss: 0.1640 - val_accuracy: 0.9435\n",
      "Epoch 86/100\n",
      "423/423 [==============================] - 3s 6ms/step - loss: 0.1906 - accuracy: 0.9367 - val_loss: 0.1625 - val_accuracy: 0.9424\n",
      "Epoch 87/100\n",
      "423/423 [==============================] - 3s 7ms/step - loss: 0.1887 - accuracy: 0.9370 - val_loss: 0.1610 - val_accuracy: 0.9418\n",
      "Epoch 88/100\n",
      "423/423 [==============================] - 3s 8ms/step - loss: 0.1897 - accuracy: 0.9353 - val_loss: 0.1646 - val_accuracy: 0.9432\n",
      "Epoch 89/100\n",
      "423/423 [==============================] - 3s 8ms/step - loss: 0.1834 - accuracy: 0.9384 - val_loss: 0.1636 - val_accuracy: 0.9427\n",
      "Epoch 90/100\n",
      "423/423 [==============================] - 2s 6ms/step - loss: 0.1908 - accuracy: 0.9374 - val_loss: 0.1634 - val_accuracy: 0.9424\n",
      "Epoch 91/100\n",
      "423/423 [==============================] - 2s 6ms/step - loss: 0.1876 - accuracy: 0.9353 - val_loss: 0.1625 - val_accuracy: 0.9435\n",
      "Epoch 92/100\n",
      "423/423 [==============================] - 2s 6ms/step - loss: 0.1898 - accuracy: 0.9343 - val_loss: 0.1640 - val_accuracy: 0.9432\n",
      "Epoch 93/100\n",
      "423/423 [==============================] - 2s 6ms/step - loss: 0.1865 - accuracy: 0.9389 - val_loss: 0.1629 - val_accuracy: 0.9427\n",
      "Epoch 94/100\n",
      "423/423 [==============================] - 2s 6ms/step - loss: 0.1919 - accuracy: 0.9348 - val_loss: 0.1614 - val_accuracy: 0.9441\n",
      "Epoch 95/100\n",
      "423/423 [==============================] - 2s 6ms/step - loss: 0.1849 - accuracy: 0.9382 - val_loss: 0.1659 - val_accuracy: 0.9424\n",
      "Epoch 96/100\n",
      "423/423 [==============================] - 2s 6ms/step - loss: 0.1865 - accuracy: 0.9370 - val_loss: 0.1606 - val_accuracy: 0.9450\n",
      "Epoch 97/100\n",
      "423/423 [==============================] - 2s 6ms/step - loss: 0.1842 - accuracy: 0.9381 - val_loss: 0.1619 - val_accuracy: 0.9435\n",
      "Epoch 98/100\n",
      "423/423 [==============================] - 2s 6ms/step - loss: 0.1864 - accuracy: 0.9358 - val_loss: 0.1617 - val_accuracy: 0.9456\n",
      "Epoch 99/100\n",
      "423/423 [==============================] - 2s 6ms/step - loss: 0.1867 - accuracy: 0.9367 - val_loss: 0.1611 - val_accuracy: 0.9447\n",
      "Epoch 100/100\n",
      "423/423 [==============================] - 2s 6ms/step - loss: 0.1864 - accuracy: 0.9379 - val_loss: 0.1597 - val_accuracy: 0.9435\n"
     ]
    }
   ],
   "source": [
    "model.compile(optimizer=optimizers.RMSprop(learning_rate=1e-4), \n",
    "              loss='sparse_categorical_crossentropy', \n",
    "              metrics=['accuracy'])\n",
    "\n",
    "early_stopp = EarlyStopping(patience=6, restore_best_weights=True, monitor='val_loss')\n",
    "\n",
    "history = model.fit(X_train, y_train, epochs=100, \n",
    "                    validation_data=(X_val, y_val), \n",
    "                    batch_size=32)"
   ]
  },
  {
   "cell_type": "code",
   "execution_count": 58,
   "id": "b0a57be1",
   "metadata": {
    "execution": {
     "iopub.execute_input": "2021-10-08T01:33:29.359530Z",
     "iopub.status.busy": "2021-10-08T01:33:29.358188Z",
     "iopub.status.idle": "2021-10-08T01:33:29.572035Z",
     "shell.execute_reply": "2021-10-08T01:33:29.571553Z",
     "shell.execute_reply.started": "2021-10-08T01:28:54.493164Z"
    },
    "papermill": {
     "duration": 1.124485,
     "end_time": "2021-10-08T01:33:29.572174",
     "exception": false,
     "start_time": "2021-10-08T01:33:28.447689",
     "status": "completed"
    },
    "tags": []
   },
   "outputs": [
    {
     "name": "stdout",
     "output_type": "stream",
     "text": [
      "106/106 [==============================] - 0s 2ms/step - loss: 0.1597 - accuracy: 0.9435\n"
     ]
    },
    {
     "data": {
      "text/plain": [
       "[0.15974922478199005, 0.9435412287712097]"
      ]
     },
     "execution_count": 58,
     "metadata": {},
     "output_type": "execute_result"
    }
   ],
   "source": [
    "model.evaluate(X_val, y_val)"
   ]
  },
  {
   "cell_type": "code",
   "execution_count": 59,
   "id": "bf5975db",
   "metadata": {
    "execution": {
     "iopub.execute_input": "2021-10-08T01:33:31.375533Z",
     "iopub.status.busy": "2021-10-08T01:33:31.374744Z",
     "iopub.status.idle": "2021-10-08T01:33:31.378046Z",
     "shell.execute_reply": "2021-10-08T01:33:31.377419Z",
     "shell.execute_reply.started": "2021-10-08T01:28:54.710928Z"
    },
    "papermill": {
     "duration": 0.895598,
     "end_time": "2021-10-08T01:33:31.378190",
     "exception": false,
     "start_time": "2021-10-08T01:33:30.482592",
     "status": "completed"
    },
    "tags": []
   },
   "outputs": [],
   "source": [
    "### extract results from history\n",
    "\n",
    "train_loss = history.history['loss']\n",
    "train_acc = history.history['accuracy']\n",
    "\n",
    "val_loss = history.history['val_loss']\n",
    "val_acc = history.history['val_accuracy']\n",
    "epochs = range(1, len(train_loss)+1)"
   ]
  },
  {
   "cell_type": "code",
   "execution_count": 60,
   "id": "00478943",
   "metadata": {
    "execution": {
     "iopub.execute_input": "2021-10-08T01:33:33.229528Z",
     "iopub.status.busy": "2021-10-08T01:33:33.228736Z",
     "iopub.status.idle": "2021-10-08T01:33:33.689627Z",
     "shell.execute_reply": "2021-10-08T01:33:33.690133Z",
     "shell.execute_reply.started": "2021-10-08T01:28:54.717790Z"
    },
    "papermill": {
     "duration": 1.424295,
     "end_time": "2021-10-08T01:33:33.690350",
     "exception": false,
     "start_time": "2021-10-08T01:33:32.266055",
     "status": "completed"
    },
    "tags": []
   },
   "outputs": [
    {
     "data": {
      "image/png": "[encoded data removed]",
      "text/plain": [
       "<Figure size 1296x504 with 2 Axes>"
      ]
     },
     "metadata": {
      "needs_background": "light"
     },
     "output_type": "display_data"
    }
   ],
   "source": [
    "### get some results and Visualization from history\n",
    "fig, ax = plt.subplots(1, 2, figsize=(18, 7))\n",
    "fig.tight_layout(pad=4)  ## to avoid overlaping of titles in subplots (try comment it you will know)\n",
    "\n",
    "plt.sca(ax[0])\n",
    "plt.plot(epochs, train_loss, 'bo-', label='training')\n",
    "plt.plot(epochs, val_loss, 'go--', label='validating')\n",
    "plt.xlabel('epochs')\n",
    "plt.ylabel('losses')\n",
    "plt.title('Training& ValidatingLoss')\n",
    "plt.legend()\n",
    "\n",
    "plt.sca(ax[1])\n",
    "plt.plot(epochs, train_acc, 'bo-', label='training')\n",
    "plt.plot(epochs, val_acc, 'go--', label='validating')\n",
    "plt.xlabel('epochs')\n",
    "plt.ylabel('accuracy')\n",
    "plt.title('Training & Validating Accuracy')\n",
    "\n",
    "plt.legend(loc='lower right')\n",
    "plt.show()"
   ]
  },
  {
   "cell_type": "code",
   "execution_count": 61,
   "id": "0d990ef9",
   "metadata": {
    "execution": {
     "iopub.execute_input": "2021-10-08T01:33:35.498253Z",
     "iopub.status.busy": "2021-10-08T01:33:35.497303Z",
     "iopub.status.idle": "2021-10-08T01:33:35.741924Z",
     "shell.execute_reply": "2021-10-08T01:33:35.742559Z",
     "shell.execute_reply.started": "2021-10-08T01:28:55.315088Z"
    },
    "papermill": {
     "duration": 1.166909,
     "end_time": "2021-10-08T01:33:35.742751",
     "exception": false,
     "start_time": "2021-10-08T01:33:34.575842",
     "status": "completed"
    },
    "tags": []
   },
   "outputs": [
    {
     "name": "stdout",
     "output_type": "stream",
     "text": [
      "106/106 [==============================] - 0s 2ms/step\n",
      " ====>  0.9435412355897133\n"
     ]
    }
   ],
   "source": [
    "from sklearn.metrics import f1_score\n",
    "\n",
    "nums_predictions = np.argmax(model.predict(X_val), axis=-1)\n",
    "print(\" ====> \",f1_score(nums_predictions, y_val,average=\"micro\"))"
   ]
  },
  {
   "cell_type": "code",
   "execution_count": 62,
   "id": "df43e5b6",
   "metadata": {
    "execution": {
     "iopub.execute_input": "2021-10-08T01:33:37.560891Z",
     "iopub.status.busy": "2021-10-08T01:33:37.560258Z",
     "iopub.status.idle": "2021-10-08T01:33:37.678492Z",
     "shell.execute_reply": "2021-10-08T01:33:37.677792Z",
     "shell.execute_reply.started": "2021-10-08T01:28:55.573351Z"
    },
    "papermill": {
     "duration": 1.00713,
     "end_time": "2021-10-08T01:33:37.678642",
     "exception": false,
     "start_time": "2021-10-08T01:33:36.671512",
     "status": "completed"
    },
    "tags": []
   },
   "outputs": [
    {
     "name": "stdout",
     "output_type": "stream",
     "text": [
      "85/85 [==============================] - 0s 2ms/step\n"
     ]
    }
   ],
   "source": [
    "y_pred = np.argmax(model.predict(pca_test), axis=-1)\n",
    "y_test = lab_enc.inverse_transform(y_pred)"
   ]
  },
  {
   "cell_type": "code",
   "execution_count": 63,
   "id": "287a0b1b",
   "metadata": {
    "execution": {
     "iopub.execute_input": "2021-10-08T01:33:39.470249Z",
     "iopub.status.busy": "2021-10-08T01:33:39.469128Z",
     "iopub.status.idle": "2021-10-08T01:33:39.489948Z",
     "shell.execute_reply": "2021-10-08T01:33:39.489321Z",
     "shell.execute_reply.started": "2021-10-08T01:28:55.700714Z"
    },
    "papermill": {
     "duration": 0.923382,
     "end_time": "2021-10-08T01:33:39.490088",
     "exception": false,
     "start_time": "2021-10-08T01:33:38.566706",
     "status": "completed"
    },
    "tags": []
   },
   "outputs": [
    {
     "data": {
      "text/html": [
       "<div>\n",
       "<style scoped>\n",
       "    .dataframe tbody tr th:only-of-type {\n",
       "        vertical-align: middle;\n",
       "    }\n",
       "\n",
       "    .dataframe tbody tr th {\n",
       "        vertical-align: top;\n",
       "    }\n",
       "\n",
       "    .dataframe thead th {\n",
       "        text-align: right;\n",
       "    }\n",
       "</style>\n",
       "<table border=\"1\" class=\"dataframe\">\n",
       "  <thead>\n",
       "    <tr style=\"text-align: right;\">\n",
       "      <th></th>\n",
       "      <th>y</th>\n",
       "    </tr>\n",
       "    <tr>\n",
       "      <th>ID</th>\n",
       "      <th></th>\n",
       "    </tr>\n",
       "  </thead>\n",
       "  <tbody>\n",
       "    <tr>\n",
       "      <th>10834</th>\n",
       "      <td>HOROZ</td>\n",
       "    </tr>\n",
       "    <tr>\n",
       "      <th>10835</th>\n",
       "      <td>HOROZ</td>\n",
       "    </tr>\n",
       "    <tr>\n",
       "      <th>10836</th>\n",
       "      <td>HOROZ</td>\n",
       "    </tr>\n",
       "    <tr>\n",
       "      <th>10837</th>\n",
       "      <td>HOROZ</td>\n",
       "    </tr>\n",
       "    <tr>\n",
       "      <th>10838</th>\n",
       "      <td>HOROZ</td>\n",
       "    </tr>\n",
       "  </tbody>\n",
       "</table>\n",
       "</div>"
      ],
      "text/plain": [
       "           y\n",
       "ID          \n",
       "10834  HOROZ\n",
       "10835  HOROZ\n",
       "10836  HOROZ\n",
       "10837  HOROZ\n",
       "10838  HOROZ"
      ]
     },
     "execution_count": 63,
     "metadata": {},
     "output_type": "execute_result"
    }
   ],
   "source": [
    "df_submit = pd.read_csv('sample_submission.csv', index_col='ID')\n",
    "df_submit.head()"
   ]
  },
  {
   "cell_type": "code",
   "execution_count": 64,
   "id": "a8440175",
   "metadata": {
    "execution": {
     "iopub.execute_input": "2021-10-08T01:33:41.339664Z",
     "iopub.status.busy": "2021-10-08T01:33:41.339032Z",
     "iopub.status.idle": "2021-10-08T01:33:41.340789Z",
     "shell.execute_reply": "2021-10-08T01:33:41.341298Z",
     "shell.execute_reply.started": "2021-10-08T01:28:55.725860Z"
    },
    "papermill": {
     "duration": 0.895505,
     "end_time": "2021-10-08T01:33:41.341468",
     "exception": false,
     "start_time": "2021-10-08T01:33:40.445963",
     "status": "completed"
    },
    "tags": []
   },
   "outputs": [],
   "source": [
    "df_submit.y = y_test"
   ]
  },
  {
   "cell_type": "code",
   "execution_count": 65,
   "id": "fc335c97",
   "metadata": {
    "execution": {
     "iopub.execute_input": "2021-10-08T01:33:43.142981Z",
     "iopub.status.busy": "2021-10-08T01:33:43.142275Z",
     "iopub.status.idle": "2021-10-08T01:33:43.151849Z",
     "shell.execute_reply": "2021-10-08T01:33:43.151313Z",
     "shell.execute_reply.started": "2021-10-08T01:28:55.731890Z"
    },
    "papermill": {
     "duration": 0.911358,
     "end_time": "2021-10-08T01:33:43.152018",
     "exception": false,
     "start_time": "2021-10-08T01:33:42.240660",
     "status": "completed"
    },
    "tags": []
   },
   "outputs": [
    {
     "data": {
      "text/html": [
       "<div>\n",
       "<style scoped>\n",
       "    .dataframe tbody tr th:only-of-type {\n",
       "        vertical-align: middle;\n",
       "    }\n",
       "\n",
       "    .dataframe tbody tr th {\n",
       "        vertical-align: top;\n",
       "    }\n",
       "\n",
       "    .dataframe thead th {\n",
       "        text-align: right;\n",
       "    }\n",
       "</style>\n",
       "<table border=\"1\" class=\"dataframe\">\n",
       "  <thead>\n",
       "    <tr style=\"text-align: right;\">\n",
       "      <th></th>\n",
       "      <th>y</th>\n",
       "    </tr>\n",
       "    <tr>\n",
       "      <th>ID</th>\n",
       "      <th></th>\n",
       "    </tr>\n",
       "  </thead>\n",
       "  <tbody>\n",
       "    <tr>\n",
       "      <th>10834</th>\n",
       "      <td>HOROZ</td>\n",
       "    </tr>\n",
       "    <tr>\n",
       "      <th>10835</th>\n",
       "      <td>DERMASON</td>\n",
       "    </tr>\n",
       "    <tr>\n",
       "      <th>10836</th>\n",
       "      <td>BARBUNYA</td>\n",
       "    </tr>\n",
       "    <tr>\n",
       "      <th>10837</th>\n",
       "      <td>DERMASON</td>\n",
       "    </tr>\n",
       "    <tr>\n",
       "      <th>10838</th>\n",
       "      <td>CALI</td>\n",
       "    </tr>\n",
       "  </tbody>\n",
       "</table>\n",
       "</div>"
      ],
      "text/plain": [
       "              y\n",
       "ID             \n",
       "10834     HOROZ\n",
       "10835  DERMASON\n",
       "10836  BARBUNYA\n",
       "10837  DERMASON\n",
       "10838      CALI"
      ]
     },
     "execution_count": 65,
     "metadata": {},
     "output_type": "execute_result"
    }
   ],
   "source": [
    "df_submit.head()"
   ]
  },
  {
   "cell_type": "code",
   "execution_count": 66,
   "id": "073478d4",
   "metadata": {},
   "outputs": [],
   "source": [
    "df_submit.to_csv('aaaaaaaaaaaaa.csv')"
   ]
  },
  {
   "cell_type": "code",
   "execution_count": null,
   "id": "5b594b50",
   "metadata": {},
   "outputs": [],
   "source": []
  }
 ],
 "metadata": {
  "kernelspec": {
   "display_name": "Python 3 (ipykernel)",
   "language": "python",
   "name": "python3"
  },
  "language_info": {
   "codemirror_mode": {
    "name": "ipython",
    "version": 3
   },
   "file_extension": ".py",
   "mimetype": "text/x-python",
   "name": "python",
   "nbconvert_exporter": "python",
   "pygments_lexer": "ipython3",
   "version": "3.9.7"
  },
  "papermill": {
   "default_parameters": {},
   "duration": 274.083629,
   "end_time": "2021-10-08T01:33:46.874089",
   "environment_variables": {},
   "exception": null,
   "input_path": "__notebook__.ipynb",
   "output_path": "__notebook__.ipynb",
   "parameters": {},
   "start_time": "2021-10-08T01:29:12.790460",
   "version": "2.3.3"
  }
 },
 "nbformat": 4,
 "nbformat_minor": 5
}
